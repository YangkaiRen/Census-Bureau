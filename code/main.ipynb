{
 "cells": [
  {
   "cell_type": "code",
   "execution_count": null,
   "metadata": {},
   "outputs": [],
   "source": [
    "from sklearn.model_selection import KFold\n",
    "from sklearn.metrics import mean_squared_error, mean_absolute_error\n",
    "import time\n",
    "import pandas as pd\n",
    "import numpy as np\n",
    "import warnings\n",
    "from itertools import combinations\n",
    "import requests\n",
    "import seaborn as sns\n",
    "from matplotlib import pyplot as plt\n",
    "import pickle\n",
    "from pandas.api.types import CategoricalDtype\n",
    "import warnings\n",
    "\n",
    "warnings.filterwarnings('ignore')\n",
    "pd.set_option('display.max_columns', None)\n",
    "pd.set_option('display.max_rows', None)"
   ]
  },
  {
   "cell_type": "code",
   "execution_count": null,
   "metadata": {},
   "outputs": [],
   "source": [
    "columns_name = [\"age\", \"workClass\", \"fnlwgt\", \"education\", \"education.num\",\n",
    "                \"marital.status\", \"occupation\", \"relationship\", \"race\", \"sex\", \n",
    "                \"capital_gain\", \"capital_loss\", \"hours_perweek\", \"native_country\", \"income\"]\n",
    "\n",
    "train_df = pd.read_csv('../data/adult.data', names=columns_name, sep=' *, *')\n",
    "test_df = pd.read_csv('../data/adult.test',  names=columns_name, sep=' *, *', skiprows=1)"
   ]
  },
  {
   "cell_type": "markdown",
   "metadata": {},
   "source": [
    "# ----------------------------preprocessing--------------------------------"
   ]
  },
  {
   "cell_type": "markdown",
   "metadata": {},
   "source": [
    "1. concate train_df and test_df"
   ]
  },
  {
   "cell_type": "code",
   "execution_count": null,
   "metadata": {},
   "outputs": [],
   "source": [
    "test_X = test_df.drop('income', axis=1)\n",
    "df = pd.concat([train_df, test_X], ignore_index=True)"
   ]
  },
  {
   "cell_type": "markdown",
   "metadata": {},
   "source": [
    "2. Explaced formate error \"?\" to be None"
   ]
  },
  {
   "cell_type": "code",
   "execution_count": null,
   "metadata": {},
   "outputs": [],
   "source": [
    "df[df == '?'] = np.nan"
   ]
  },
  {
   "cell_type": "markdown",
   "metadata": {},
   "source": [
    "3. The dependent column ‘income’ which is to be predicted has been replaced with 0 and 1 and hence convert the problem to a dichotomo"
   ]
  },
  {
   "cell_type": "code",
   "execution_count": null,
   "metadata": {},
   "outputs": [],
   "source": [
    "df['income'].replace({'<=50K':0,'>50K':1}, inplace=True)\n",
    "Test_y = test_df['income']\n",
    "Test_y.replace({'<=50K.':0, '>50K.':1}, inplace=True)"
   ]
  },
  {
   "cell_type": "markdown",
   "metadata": {},
   "source": [
    "4. Delete useless features"
   ]
  },
  {
   "cell_type": "code",
   "execution_count": null,
   "metadata": {},
   "outputs": [],
   "source": [
    "df = df.drop('fnlwgt',axis=1)\n",
    "df = df.drop('education.num', axis=1)"
   ]
  },
  {
   "cell_type": "markdown",
   "metadata": {},
   "source": [
    "# ----------------------------------Feature engineer--------------------------------------"
   ]
  },
  {
   "cell_type": "markdown",
   "metadata": {},
   "source": [
    "Writen a custom transformer which will select the corresponding attributes"
   ]
  },
  {
   "cell_type": "code",
   "execution_count": 1,
   "metadata": {},
   "outputs": [],
   "source": [
    "from sklearn.base import BaseEstimator, TransformerMixin\n",
    "from sklearn.pipeline import Pipeline\n",
    "from sklearn.metrics import accuracy_score\n",
    "from sklearn.linear_model import LogisticRegression\n",
    "from sklearn.model_selection import GridSearchCV\n",
    "from sklearn.metrics import classification_report\n",
    "from sklearn.metrics import confusion_matrix\n",
    "from sklearn.preprocessing import StandardScaler\n",
    "from sklearn.pipeline import FeatureUnion\n",
    "from sklearn.model_selection import cross_val_score"
   ]
  },
  {
   "cell_type": "code",
   "execution_count": null,
   "metadata": {},
   "outputs": [],
   "source": [
    "class featureSelector(BaseEstimator, TransformerMixin):\n",
    "  \n",
    "    def __init__(self, type):\n",
    "        self.type = type\n",
    "  \n",
    "    def fit(self, X, y=None):\n",
    "        return self\n",
    "\n",
    "    def transform(self,X):\n",
    "        return X.select_dtypes(include=[self.type])"
   ]
  },
  {
   "cell_type": "markdown",
   "metadata": {},
   "source": [
    "Developed the numerical Data Pipeline"
   ]
  },
  {
   "cell_type": "code",
   "execution_count": null,
   "metadata": {},
   "outputs": [],
   "source": [
    "class array_df(BaseEstimator, TransformerMixin):\n",
    "    \n",
    "    def _init_(self, name=['age', 'capital-gain', 'capital-loss', 'hours.per.week']):\n",
    "        self.names = name\n",
    "        \n",
    "    def fit(self, X, y=None):\n",
    "        return self\n",
    "    \n",
    "    def transform(self, X):\n",
    "        d = pd.DataFrame(X, columns = ['age', 'capital-gain', 'capital-loss', 'hours.per.week'])\n",
    "        return d"
   ]
  },
  {
   "cell_type": "code",
   "execution_count": null,
   "metadata": {},
   "outputs": [],
   "source": [
    "num_pipeline = Pipeline(steps=[\n",
    "    (\"num_selector\", featureSelector(type='int')),\n",
    "    (\"scaler\", StandardScaler()),\n",
    "    ('arrayToDf', array_df())\n",
    "])"
   ]
  },
  {
   "cell_type": "markdown",
   "metadata": {},
   "source": [
    "Complete Numerical Pipeline"
   ]
  },
  {
   "cell_type": "code",
   "execution_count": null,
   "metadata": {},
   "outputs": [],
   "source": [
    "num_pipeline = Pipeline(steps=[\n",
    "    (\"num_selector\", featureSelector(type='int')),\n",
    "    (\"scaler\", StandardScaler()),\n",
    "    ('arrayToDf', array_df())\n",
    "])"
   ]
  },
  {
   "cell_type": "markdown",
   "metadata": {},
   "source": [
    "Developed the Categorical Data Pipeline"
   ]
  },
  {
   "cell_type": "markdown",
   "metadata": {},
   "source": [
    "Replacing the missing values with the most frequently occurring value in each column in the categorical columns."
   ]
  },
  {
   "cell_type": "code",
   "execution_count": null,
   "metadata": {},
   "outputs": [],
   "source": [
    "class CategoricalImputer(BaseEstimator, TransformerMixin):\n",
    "  \n",
    "    def __init__(self, columns = None, strategy='most_frequent'):\n",
    "        self.strategy = strategy\n",
    "        self.columns = columns\n",
    "    \n",
    "    \n",
    "    def fit(self,X, y=None):\n",
    "    \n",
    "        if self.strategy is 'most_frequent':\n",
    "            self.fill = {col: X[col].value_counts().index[0] for \n",
    "            col in self.columns}\n",
    "    \n",
    "        if self.columns is None:\n",
    "            self.columns = X.columns\n",
    "    \n",
    "        else:\n",
    "            self.fill ={col: '0' for col in self.columns}\n",
    "      \n",
    "        return self\n",
    "      \n",
    "    def transform(self,X):\n",
    "        X_2 = X.copy()\n",
    "        for col in self.columns:\n",
    "            X_2[col] = X_2[col].fillna(self.fill[col])\n",
    "        return X_2"
   ]
  },
  {
   "cell_type": "markdown",
   "metadata": {},
   "source": [
    "Used pd.get_dummies to convert the categorical values to numerical values."
   ]
  },
  {
   "cell_type": "code",
   "execution_count": null,
   "metadata": {},
   "outputs": [],
   "source": [
    "class CategoricalEncoder(BaseEstimator, TransformerMixin):\n",
    "  \n",
    "    def __init__(self, dropFirst=True):\n",
    "        self.categories = dict()\n",
    "        self.dropFirst = dropFirst\n",
    "    \n",
    "    def fit(self, X, y=None):\n",
    "\n",
    "        df_cat = df.select_dtypes(include=['object'])\n",
    "        for col in df_cat.columns:\n",
    "            self.categories[col] = df_cat[col].value_counts().index.tolist()\n",
    "        return self\n",
    "    \n",
    "    def transform(self, X):\n",
    "        X_2 = X.copy()\n",
    "        X_2 = X_2.select_dtypes(include=['object'])\n",
    "        for col in X_2.columns:\n",
    "            X_2[col] = X_2[col].astype({col: CategoricalDtype(self.categories[col])})\n",
    "            \n",
    "        return pd.get_dummies(X_2, drop_first=self.dropFirst)"
   ]
  },
  {
   "cell_type": "markdown",
   "metadata": {},
   "source": [
    "Complete Categorical Pipeline"
   ]
  },
  {
   "cell_type": "code",
   "execution_count": null,
   "metadata": {},
   "outputs": [],
   "source": [
    "cat_pipeline = Pipeline(steps=[\n",
    "    (\"cat_selector\", featureSelector(type='object')),\n",
    "    (\"cat_imputer\", CategoricalImputer(columns = ['occupation', 'workClass', 'native_country'])),\n",
    "    (\"cat_encoder\", CategoricalEncoder())\n",
    "])"
   ]
  },
  {
   "cell_type": "markdown",
   "metadata": {},
   "source": [
    "Split df to train data and test data"
   ]
  },
  {
   "cell_type": "code",
   "execution_count": null,
   "metadata": {},
   "outputs": [],
   "source": [
    "Train_x = df[df['income'].notnull()].drop('income', axis=1)\n",
    "Train_y = df[df['income'].notnull()]['income']\n",
    "Test_x = df[df['income'].isnull()].drop('income', axis=1).reset_index(drop=True)\n",
    "Test_y = Test_y"
   ]
  },
  {
   "cell_type": "markdown",
   "metadata": {},
   "source": [
    "Completed Pipeline uses pipline"
   ]
  },
  {
   "cell_type": "code",
   "execution_count": null,
   "metadata": {},
   "outputs": [],
   "source": [
    "# full_pipeline = FeatureUnion([(\"num_pipeline\", num_pipeline), \n",
    "#                 (\"cat_pipeline\", cat_pipeline)])\n",
    "\n",
    "Train_x_num = num_pipeline.fit_transform(Train_x)\n",
    "Train_x_cat = cat_pipeline.fit_transform(Train_x)\n",
    "Train = pd.concat([Train_x_num, Train_x_cat, Train_y], axis=1)"
   ]
  },
  {
   "cell_type": "code",
   "execution_count": null,
   "metadata": {},
   "outputs": [],
   "source": [
    "Test_x_num = num_pipeline.fit_transform(Test_x)\n",
    "Test_x_cat = cat_pipeline.fit_transform(Test_x)\n",
    "Test = pd.concat([Test_x_num, Test_x_cat, Test_y], axis=1)"
   ]
  },
  {
   "cell_type": "markdown",
   "metadata": {},
   "source": [
    "# -------------------------------------------model-----------------------------------------"
   ]
  },
  {
   "cell_type": "code",
   "execution_count": null,
   "metadata": {},
   "outputs": [],
   "source": [
    "Train_df = Train\n",
    "Test_df = Test"
   ]
  },
  {
   "cell_type": "code",
   "execution_count": null,
   "metadata": {},
   "outputs": [],
   "source": [
    "Train_x = Train_df.drop('income', axis=1)\n",
    "Train_y = Train_df['income']\n",
    "Test_x = Test_df.drop('income', axis=1)\n",
    "Test_y = Test_df['income']"
   ]
  },
  {
   "cell_type": "markdown",
   "metadata": {},
   "source": [
    "Created the model"
   ]
  },
  {
   "cell_type": "code",
   "execution_count": null,
   "metadata": {},
   "outputs": [],
   "source": [
    "from sklearn.model_selection import KFold\n",
    "\n",
    "kf = KFold(n_splits=5, shuffle=True, random_state = 2021)\n",
    "best_model = LogisticRegression(C=1, max_iter=10, penalty='l1', random_state=0, solver='liblinear')\n",
    "\n",
    "predictions = np.zeros(len(Test_x))\n",
    "acss = []\n",
    "\n",
    "for i, (trn_idx, val_idx) in enumerate(kf.split(Train_x, Train_y)):\n",
    "    print('--------------------- {} fold ---------------------'.format(i+1))\n",
    "    trn_x, trn_y = Train_x.iloc[trn_idx], Train_y.iloc[trn_idx]\n",
    "    val_x, val_y = Train_x.iloc[val_idx], Train_y.iloc[val_idx]\n",
    "    \n",
    "    best_model.fit(trn_x, trn_y)    \n",
    "    pred_y = best_model.predict(val_x)\n",
    "    \n",
    "    acs = accuracy_score(val_y, pred_y)\n",
    "    acss.append(acs)\n",
    "    predictions += best_model.predict(Test_x) / kf.n_splits\n",
    "    \n",
    "    print('accuracy: ', acs)\n",
    "\n",
    "print('average accuracy: ', np.mean(acss))"
   ]
  },
  {
   "cell_type": "code",
   "execution_count": null,
   "metadata": {},
   "outputs": [],
   "source": [
    "predictions = predictions.astype('int')\n",
    "accuracy_score(predictions, Test_y.values)"
   ]
  },
  {
   "cell_type": "markdown",
   "metadata": {},
   "source": [
    "Save mode"
   ]
  },
  {
   "cell_type": "code",
   "execution_count": null,
   "metadata": {},
   "outputs": [],
   "source": [
    "import pickle\n",
    "\n",
    "filename = 'best_model.sav'\n",
    "pickle.dump(best_model, open(filename, 'wb'))"
   ]
  },
  {
   "cell_type": "code",
   "execution_count": null,
   "metadata": {},
   "outputs": [],
   "source": [
    "predictions.to_csv('prediction.csv')"
   ]
  }
 ],
 "metadata": {
  "kernelspec": {
   "display_name": "Python 3",
   "language": "python",
   "name": "python3"
  },
  "language_info": {
   "codemirror_mode": {
    "name": "ipython",
    "version": 3
   },
   "file_extension": ".py",
   "mimetype": "text/x-python",
   "name": "python",
   "nbconvert_exporter": "python",
   "pygments_lexer": "ipython3",
   "version": "3.8.5"
  }
 },
 "nbformat": 4,
 "nbformat_minor": 4
}
